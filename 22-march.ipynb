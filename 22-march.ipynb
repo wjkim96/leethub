{
 "cells": [
  {
   "attachments": {},
   "cell_type": "markdown",
   "metadata": {},
   "source": [
    "Q1"
   ]
  },
  {
   "cell_type": "code",
   "execution_count": 2,
   "metadata": {},
   "outputs": [],
   "source": [
    "s1 = \"kabccbadzdefgfeda\""
   ]
  },
  {
   "cell_type": "code",
   "execution_count": 3,
   "metadata": {},
   "outputs": [],
   "source": [
    "s2 = \"kabccba dzabccbaza\""
   ]
  },
  {
   "cell_type": "code",
   "execution_count": 84,
   "metadata": {},
   "outputs": [],
   "source": [
    "def palindrome(s):\n",
    "    L = len(s)\n",
    "    S = []\n",
    "    if s == \"\":\n",
    "        return False\n",
    "    for i in range(len(s)):\n",
    "        S.append(s[i])\n",
    "    while L > 0:\n",
    "        if len(S) == 1:\n",
    "            return True\n",
    "        if S[0] == S[-1]:\n",
    "            S.pop(0)\n",
    "            S.pop()\n",
    "            L = L - 2\n",
    "        else:\n",
    "            return False\n",
    "    return True"
   ]
  },
  {
   "cell_type": "code",
   "execution_count": 85,
   "metadata": {},
   "outputs": [
    {
     "data": {
      "text/plain": [
       "False"
      ]
     },
     "execution_count": 85,
     "metadata": {},
     "output_type": "execute_result"
    }
   ],
   "source": [
    "palindrome(\"\")"
   ]
  },
  {
   "cell_type": "code",
   "execution_count": 86,
   "metadata": {},
   "outputs": [],
   "source": [
    "def substring(s, t):\n",
    "    S, T = [], []\n",
    "    for i in range(len(s)):\n",
    "        S.append(s[i])\n",
    "    for i in range(len(t)):\n",
    "        T.append(t[i])\n",
    "    lT = len(T)\n",
    "    for i in range(len(S) - len(T)):\n",
    "        if S[i:i+lT] == T:\n",
    "            return True\n",
    "    return False\n",
    "\n"
   ]
  },
  {
   "cell_type": "code",
   "execution_count": 87,
   "metadata": {},
   "outputs": [
    {
     "data": {
      "text/plain": [
       "True"
      ]
     },
     "execution_count": 87,
     "metadata": {},
     "output_type": "execute_result"
    }
   ],
   "source": [
    "substring(\"ksldfuhskjn dkasd\", \"fuh\")"
   ]
  },
  {
   "cell_type": "code",
   "execution_count": 196,
   "metadata": {},
   "outputs": [],
   "source": [
    "def max_palindromes(s):\n",
    "    bin = []\n",
    "    lS = len(s)\n",
    "    # ss = s\n",
    "    while lS > 0:\n",
    "        for i in range(len(s)-lS + 1):\n",
    "            ss = s[i:i+lS]\n",
    "            # print(ss)\n",
    "            if palindrome(ss) == True:\n",
    "                bin.append(ss)\n",
    "                # lS -= 1\n",
    "        lS -= 1\n",
    "    # print(bin)\n",
    "    bin = list(set(bin))\n",
    "    # print(bin)\n",
    "    ans = []\n",
    "    # print(ans)\n",
    "    dct = {}\n",
    "    for str in bin:\n",
    "        dct[str] = 1\n",
    "    for str1 in bin:\n",
    "        for str2 in bin:\n",
    "            if substring(str2, str1) and (str1 != str2):\n",
    "                dct[str1] = 0\n",
    "    for key in dct:\n",
    "        if dct[key]:\n",
    "            ans.append(key)\n",
    "\n",
    "    # for i in range(len(bin)):\n",
    "    #     for j in range(len(bin)):\n",
    "    #         if substring(bin[j], bin[i]) and (i != j):\n",
    "    #             print(bin[i])\n",
    "    #             ans.remove(bin[i])\n",
    "    #             print(ans)\n",
    "                # print(bin)\n",
    "    return ans\n"
   ]
  },
  {
   "cell_type": "code",
   "execution_count": 197,
   "metadata": {},
   "outputs": [
    {
     "data": {
      "text/plain": [
       "['k', 'd', 'aza', ' ', 'zabccbaz']"
      ]
     },
     "execution_count": 197,
     "metadata": {},
     "output_type": "execute_result"
    }
   ],
   "source": [
    "max_palindromes(s2)"
   ]
  },
  {
   "cell_type": "code",
   "execution_count": 193,
   "metadata": {},
   "outputs": [],
   "source": [
    "# def palindrome(s):\n",
    "#     length = len(s)\n",
    "#     for i in range(length // 2):\n",
    "#         if s[i] != s[length - 1 - i]:\n",
    "#             return False\n",
    "#     return True\n",
    "\n",
    "# def substring(s, t):\n",
    "#     s_len = len(s)\n",
    "#     t_len = len(t)\n",
    "#     for i in range(s_len - t_len + 1):\n",
    "#         if s[i:i + t_len] == t:\n",
    "#             return True\n",
    "#     return False\n",
    "\n",
    "# def max_palindromes(s):\n",
    "#     length = len(s)\n",
    "#     palindromes = []\n",
    "#     for i in range(length):\n",
    "#         for j in range(i + 1, length + 1):\n",
    "#             substring = s[i:j]\n",
    "#             if palindrome(substring):\n",
    "#                 is_maximal = True\n",
    "#                 for p in palindromes:\n",
    "#                     if substring != p and substring in p:\n",
    "#                         is_maximal = False\n",
    "#                         break\n",
    "#                 if is_maximal:\n",
    "#                     palindromes.append(substring)\n",
    "#     return palindromes"
   ]
  },
  {
   "cell_type": "code",
   "execution_count": 194,
   "metadata": {},
   "outputs": [
    {
     "data": {
      "text/plain": [
       "['k', 'a', 'abccba', ' ', 'd', 'z', 'zabccbaz', 'aza']"
      ]
     },
     "execution_count": 194,
     "metadata": {},
     "output_type": "execute_result"
    }
   ],
   "source": [
    "max_palindromes(s2)"
   ]
  },
  {
   "attachments": {},
   "cell_type": "markdown",
   "metadata": {},
   "source": [
    "Q2"
   ]
  },
  {
   "cell_type": "code",
   "execution_count": 112,
   "metadata": {},
   "outputs": [],
   "source": [
    "class GNode:\n",
    "    def __init__(self, id, color=\"W\", d=0, p=None):\n",
    "        self.id = id  # id is a string\n",
    "        self.color = color # color (status) of node \n",
    "        self.distance = d\n",
    "        self.parent = p\n",
    "    def __str__(self):\n",
    "        return self.id\n",
    "\n",
    "r, s, t, u, v = GNode('r'), GNode('s'), GNode('t'), GNode('u'), GNode('v')\n",
    "w, x, y = GNode('w'), GNode('x'), GNode('y')\n",
    "G = dict()\n",
    "G[r], G[s], G[t], G[u], G[v] = [s, v], [w, r], [w, x, u], [t, x, y], [r]\n",
    "G[w], G[x], G[y] = [s, t, x], [w, t, u, y], [x, u]"
   ]
  },
  {
   "cell_type": "code",
   "execution_count": 116,
   "metadata": {},
   "outputs": [],
   "source": [
    "def bfs(G, s):\n",
    "    if G:\n",
    "        # visited = {}\n",
    "        # for v in G:\n",
    "        #     visited[v] = 0\n",
    "        q = [s]\n",
    "        # p = [s.id]\n",
    "        s.color = \"B\"\n",
    "        # for v in G:\n",
    "        # q.append(v)\n",
    "        # tmp = -1\n",
    "        while q:\n",
    "            v = q.pop(0)\n",
    "            # p.pop(0)\n",
    "            # if not visited[v]:\n",
    "            # visited[v] = 1\n",
    "            # v.distance = tmp + 1\n",
    "            # v.color = \"B\"\n",
    "            for w in G[v]:\n",
    "                if w.color == \"W\":\n",
    "                    w.color = \"B\"\n",
    "                    w.distance = v.distance + 1\n",
    "                    q.append(w)\n",
    "                    # p.append(w.id)\n",
    "            # print(p)\n",
    "            # print(v.id, v.distance)\n",
    "            # tmp = v.distance\n",
    "\n"
   ]
  },
  {
   "cell_type": "code",
   "execution_count": 117,
   "metadata": {},
   "outputs": [],
   "source": [
    "def level_partition(G,s):\n",
    "    bfs(G, s)\n",
    "    dct = {}\n",
    "    ans = []\n",
    "    for v in G:\n",
    "        if v.distance not in dct:\n",
    "            dct[v.distance] = [v.id]\n",
    "        else:\n",
    "            dct[v.distance].append(v.id)\n",
    "    print(dct)\n",
    "    for i in range(len(dct)):\n",
    "        ans.append(dct[i])\n",
    "    return ans\n"
   ]
  },
  {
   "cell_type": "code",
   "execution_count": 118,
   "metadata": {},
   "outputs": [
    {
     "name": "stdout",
     "output_type": "stream",
     "text": [
      "{1: ['r', 'w'], 0: ['s'], 2: ['t', 'v', 'x'], 3: ['u', 'y']}\n"
     ]
    },
    {
     "data": {
      "text/plain": [
       "[['s'], ['r', 'w'], ['t', 'v', 'x'], ['u', 'y']]"
      ]
     },
     "execution_count": 118,
     "metadata": {},
     "output_type": "execute_result"
    }
   ],
   "source": [
    "level_partition(G, s)"
   ]
  },
  {
   "cell_type": "code",
   "execution_count": 100,
   "metadata": {},
   "outputs": [],
   "source": [
    "## 30분 정도 초과하여 완료함"
   ]
  },
  {
   "cell_type": "code",
   "execution_count": null,
   "metadata": {},
   "outputs": [],
   "source": []
  }
 ],
 "metadata": {
  "kernelspec": {
   "display_name": "base",
   "language": "python",
   "name": "python3"
  },
  "language_info": {
   "codemirror_mode": {
    "name": "ipython",
    "version": 3
   },
   "file_extension": ".py",
   "mimetype": "text/x-python",
   "name": "python",
   "nbconvert_exporter": "python",
   "pygments_lexer": "ipython3",
   "version": "3.9.13"
  },
  "orig_nbformat": 4,
  "vscode": {
   "interpreter": {
    "hash": "7978b4626e1ca1c651e760bd254b1fba6c1d8bb6a9977648fa2f531666b6e707"
   }
  }
 },
 "nbformat": 4,
 "nbformat_minor": 2
}
